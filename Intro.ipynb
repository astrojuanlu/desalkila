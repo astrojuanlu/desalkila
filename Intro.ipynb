{
 "cells": [
  {
   "cell_type": "code",
   "execution_count": 1,
   "id": "835fa694-1add-428b-8a99-dbcebabb28e0",
   "metadata": {},
   "outputs": [
    {
     "data": {
      "text/html": [
       "<pre style=\"white-space:pre;overflow-x:auto;line-height:normal;font-family:Menlo,'DejaVu Sans Mono',consolas,'Courier New',monospace\"><span style=\"color: #7fbfbf; text-decoration-color: #7fbfbf\">[11/12/24 08:50:50] </span><span style=\"color: #000080; text-decoration-color: #000080\">INFO    </span> Using                                                                  <a href=\"file:///home/juanlu/Projects/Personal/desalkila/.venv/lib/python3.12/site-packages/kedro/framework/project/__init__.py\" target=\"_blank\"><span style=\"color: #7f7f7f; text-decoration-color: #7f7f7f\">__init__.py</span></a><span style=\"color: #7f7f7f; text-decoration-color: #7f7f7f\">:</span><a href=\"file:///home/juanlu/Projects/Personal/desalkila/.venv/lib/python3.12/site-packages/kedro/framework/project/__init__.py#246\" target=\"_blank\"><span style=\"color: #7f7f7f; text-decoration-color: #7f7f7f\">246</span></a>\n",
       "<span style=\"color: #7fbfbf; text-decoration-color: #7fbfbf\">                    </span>         <span style=\"color: #008000; text-decoration-color: #008000\">'/home/juanlu/Projects/Personal/desalkila/.venv/lib/python3.12/site-pa</span> <span style=\"color: #7f7f7f; text-decoration-color: #7f7f7f\">               </span>\n",
       "<span style=\"color: #7fbfbf; text-decoration-color: #7fbfbf\">                    </span>         <span style=\"color: #008000; text-decoration-color: #008000\">ckages/kedro/framework/project/rich_logging.yml'</span> as logging            <span style=\"color: #7f7f7f; text-decoration-color: #7f7f7f\">               </span>\n",
       "<span style=\"color: #7fbfbf; text-decoration-color: #7fbfbf\">                    </span>         configuration.                                                         <span style=\"color: #7f7f7f; text-decoration-color: #7f7f7f\">               </span>\n",
       "</pre>\n"
      ],
      "text/plain": [
       "\u001b[2;36m[11/12/24 08:50:50]\u001b[0m\u001b[2;36m \u001b[0m\u001b[34mINFO    \u001b[0m Using                                                                  \u001b]8;id=559519;file:///home/juanlu/Projects/Personal/desalkila/.venv/lib/python3.12/site-packages/kedro/framework/project/__init__.py\u001b\\\u001b[2m__init__.py\u001b[0m\u001b]8;;\u001b\\\u001b[2m:\u001b[0m\u001b]8;id=996151;file:///home/juanlu/Projects/Personal/desalkila/.venv/lib/python3.12/site-packages/kedro/framework/project/__init__.py#246\u001b\\\u001b[2m246\u001b[0m\u001b]8;;\u001b\\\n",
       "\u001b[2;36m                    \u001b[0m         \u001b[32m'/home/juanlu/Projects/Personal/desalkila/.venv/lib/python3.12/site-pa\u001b[0m \u001b[2m               \u001b[0m\n",
       "\u001b[2;36m                    \u001b[0m         \u001b[32mckages/kedro/framework/project/rich_logging.yml'\u001b[0m as logging            \u001b[2m               \u001b[0m\n",
       "\u001b[2;36m                    \u001b[0m         configuration.                                                         \u001b[2m               \u001b[0m\n"
      ]
     },
     "metadata": {},
     "output_type": "display_data"
    },
    {
     "data": {
      "text/html": [
       "<pre style=\"white-space:pre;overflow-x:auto;line-height:normal;font-family:Menlo,'DejaVu Sans Mono',consolas,'Courier New',monospace\"><span style=\"color: #7fbfbf; text-decoration-color: #7fbfbf\">                    </span><span style=\"color: #000080; text-decoration-color: #000080\">INFO    </span> Registered line magic <span style=\"color: #008000; text-decoration-color: #008000\">'%reload_kedro'</span>                                   <a href=\"file:///home/juanlu/Projects/Personal/desalkila/.venv/lib/python3.12/site-packages/kedro/ipython/__init__.py\" target=\"_blank\"><span style=\"color: #7f7f7f; text-decoration-color: #7f7f7f\">__init__.py</span></a><span style=\"color: #7f7f7f; text-decoration-color: #7f7f7f\">:</span><a href=\"file:///home/juanlu/Projects/Personal/desalkila/.venv/lib/python3.12/site-packages/kedro/ipython/__init__.py#58\" target=\"_blank\"><span style=\"color: #7f7f7f; text-decoration-color: #7f7f7f\">58</span></a>\n",
       "</pre>\n"
      ],
      "text/plain": [
       "\u001b[2;36m                   \u001b[0m\u001b[2;36m \u001b[0m\u001b[34mINFO    \u001b[0m Registered line magic \u001b[32m'%reload_kedro'\u001b[0m                                   \u001b]8;id=238116;file:///home/juanlu/Projects/Personal/desalkila/.venv/lib/python3.12/site-packages/kedro/ipython/__init__.py\u001b\\\u001b[2m__init__.py\u001b[0m\u001b]8;;\u001b\\\u001b[2m:\u001b[0m\u001b]8;id=713925;file:///home/juanlu/Projects/Personal/desalkila/.venv/lib/python3.12/site-packages/kedro/ipython/__init__.py#58\u001b\\\u001b[2m58\u001b[0m\u001b]8;;\u001b\\\n"
      ]
     },
     "metadata": {},
     "output_type": "display_data"
    },
    {
     "data": {
      "text/html": [
       "<pre style=\"white-space:pre;overflow-x:auto;line-height:normal;font-family:Menlo,'DejaVu Sans Mono',consolas,'Courier New',monospace\"><span style=\"color: #7fbfbf; text-decoration-color: #7fbfbf\">                    </span><span style=\"color: #000080; text-decoration-color: #000080\">INFO    </span> Registered line magic <span style=\"color: #008000; text-decoration-color: #008000\">'%load_node'</span>                                      <a href=\"file:///home/juanlu/Projects/Personal/desalkila/.venv/lib/python3.12/site-packages/kedro/ipython/__init__.py\" target=\"_blank\"><span style=\"color: #7f7f7f; text-decoration-color: #7f7f7f\">__init__.py</span></a><span style=\"color: #7f7f7f; text-decoration-color: #7f7f7f\">:</span><a href=\"file:///home/juanlu/Projects/Personal/desalkila/.venv/lib/python3.12/site-packages/kedro/ipython/__init__.py#60\" target=\"_blank\"><span style=\"color: #7f7f7f; text-decoration-color: #7f7f7f\">60</span></a>\n",
       "</pre>\n"
      ],
      "text/plain": [
       "\u001b[2;36m                   \u001b[0m\u001b[2;36m \u001b[0m\u001b[34mINFO    \u001b[0m Registered line magic \u001b[32m'%load_node'\u001b[0m                                      \u001b]8;id=49541;file:///home/juanlu/Projects/Personal/desalkila/.venv/lib/python3.12/site-packages/kedro/ipython/__init__.py\u001b\\\u001b[2m__init__.py\u001b[0m\u001b]8;;\u001b\\\u001b[2m:\u001b[0m\u001b]8;id=813147;file:///home/juanlu/Projects/Personal/desalkila/.venv/lib/python3.12/site-packages/kedro/ipython/__init__.py#60\u001b\\\u001b[2m60\u001b[0m\u001b]8;;\u001b\\\n"
      ]
     },
     "metadata": {},
     "output_type": "display_data"
    },
    {
     "data": {
      "text/html": [
       "<pre style=\"white-space:pre;overflow-x:auto;line-height:normal;font-family:Menlo,'DejaVu Sans Mono',consolas,'Courier New',monospace\"><span style=\"color: #7fbfbf; text-decoration-color: #7fbfbf\">                    </span><span style=\"color: #000080; text-decoration-color: #000080\">INFO    </span> Resolved project path as: <span style=\"color: #800080; text-decoration-color: #800080\">/home/juanlu/Projects/Personal/</span><span style=\"color: #ff00ff; text-decoration-color: #ff00ff\">desalkila.</span>    <a href=\"file:///home/juanlu/Projects/Personal/desalkila/.venv/lib/python3.12/site-packages/kedro/ipython/__init__.py\" target=\"_blank\"><span style=\"color: #7f7f7f; text-decoration-color: #7f7f7f\">__init__.py</span></a><span style=\"color: #7f7f7f; text-decoration-color: #7f7f7f\">:</span><a href=\"file:///home/juanlu/Projects/Personal/desalkila/.venv/lib/python3.12/site-packages/kedro/ipython/__init__.py#175\" target=\"_blank\"><span style=\"color: #7f7f7f; text-decoration-color: #7f7f7f\">175</span></a>\n",
       "<span style=\"color: #7fbfbf; text-decoration-color: #7fbfbf\">                    </span>         To set a different path, run <span style=\"color: #008000; text-decoration-color: #008000\">'%reload_kedro &lt;project_root&gt;'</span>            <span style=\"color: #7f7f7f; text-decoration-color: #7f7f7f\">               </span>\n",
       "</pre>\n"
      ],
      "text/plain": [
       "\u001b[2;36m                   \u001b[0m\u001b[2;36m \u001b[0m\u001b[34mINFO    \u001b[0m Resolved project path as: \u001b[35m/home/juanlu/Projects/Personal/\u001b[0m\u001b[95mdesalkila.\u001b[0m    \u001b]8;id=851886;file:///home/juanlu/Projects/Personal/desalkila/.venv/lib/python3.12/site-packages/kedro/ipython/__init__.py\u001b\\\u001b[2m__init__.py\u001b[0m\u001b]8;;\u001b\\\u001b[2m:\u001b[0m\u001b]8;id=186840;file:///home/juanlu/Projects/Personal/desalkila/.venv/lib/python3.12/site-packages/kedro/ipython/__init__.py#175\u001b\\\u001b[2m175\u001b[0m\u001b]8;;\u001b\\\n",
       "\u001b[2;36m                    \u001b[0m         To set a different path, run \u001b[32m'%reload_kedro \u001b[0m\u001b[32m<\u001b[0m\u001b[32mproject_root\u001b[0m\u001b[32m>\u001b[0m\u001b[32m'\u001b[0m            \u001b[2m               \u001b[0m\n"
      ]
     },
     "metadata": {},
     "output_type": "display_data"
    },
    {
     "data": {
      "text/html": [
       "<pre style=\"white-space:pre;overflow-x:auto;line-height:normal;font-family:Menlo,'DejaVu Sans Mono',consolas,'Courier New',monospace\"><span style=\"color: #7fbfbf; text-decoration-color: #7fbfbf\">[11/12/24 08:50:50] </span><span style=\"color: #800000; text-decoration-color: #800000\">WARNING </span> <span style=\"color: #800080; text-decoration-color: #800080\">/home/juanlu/Projects/Personal/desalkila/.venv/lib/python3.12/site-pac</span> <a href=\"file:///home/juanlu/.local/share/mise/installs/python/3.12/lib/python3.12/warnings.py\" target=\"_blank\"><span style=\"color: #7f7f7f; text-decoration-color: #7f7f7f\">warnings.py</span></a><span style=\"color: #7f7f7f; text-decoration-color: #7f7f7f\">:</span><a href=\"file:///home/juanlu/.local/share/mise/installs/python/3.12/lib/python3.12/warnings.py#110\" target=\"_blank\"><span style=\"color: #7f7f7f; text-decoration-color: #7f7f7f\">110</span></a>\n",
       "<span style=\"color: #7fbfbf; text-decoration-color: #7fbfbf\">                    </span>         <span style=\"color: #800080; text-decoration-color: #800080\">kages/kedro_viz/</span><span style=\"color: #ff00ff; text-decoration-color: #ff00ff\">__init__.py</span>:<span style=\"color: #008080; text-decoration-color: #008080; font-weight: bold\">13</span>: KedroVizPythonVersionWarning: Please   <span style=\"color: #7f7f7f; text-decoration-color: #7f7f7f\">               </span>\n",
       "<span style=\"color: #7fbfbf; text-decoration-color: #7fbfbf\">                    </span>         be advised that Kedro Viz is not yet fully                             <span style=\"color: #7f7f7f; text-decoration-color: #7f7f7f\">               </span>\n",
       "<span style=\"color: #7fbfbf; text-decoration-color: #7fbfbf\">                    </span>                 compatible with the Python version you are currently using.    <span style=\"color: #7f7f7f; text-decoration-color: #7f7f7f\">               </span>\n",
       "<span style=\"color: #7fbfbf; text-decoration-color: #7fbfbf\">                    </span>           <span style=\"color: #800080; text-decoration-color: #800080; font-weight: bold\">warnings.warn</span><span style=\"font-weight: bold\">(</span>                                                       <span style=\"color: #7f7f7f; text-decoration-color: #7f7f7f\">               </span>\n",
       "<span style=\"color: #7fbfbf; text-decoration-color: #7fbfbf\">                    </span>                                                                                <span style=\"color: #7f7f7f; text-decoration-color: #7f7f7f\">               </span>\n",
       "</pre>\n"
      ],
      "text/plain": [
       "\u001b[2;36m[11/12/24 08:50:50]\u001b[0m\u001b[2;36m \u001b[0m\u001b[31mWARNING \u001b[0m \u001b[35m/home/juanlu/Projects/Personal/desalkila/.venv/lib/python3.12/site-pac\u001b[0m \u001b]8;id=935467;file:///home/juanlu/.local/share/mise/installs/python/3.12/lib/python3.12/warnings.py\u001b\\\u001b[2mwarnings.py\u001b[0m\u001b]8;;\u001b\\\u001b[2m:\u001b[0m\u001b]8;id=427830;file:///home/juanlu/.local/share/mise/installs/python/3.12/lib/python3.12/warnings.py#110\u001b\\\u001b[2m110\u001b[0m\u001b]8;;\u001b\\\n",
       "\u001b[2;36m                    \u001b[0m         \u001b[35mkages/kedro_viz/\u001b[0m\u001b[95m__init__.py\u001b[0m:\u001b[1;36m13\u001b[0m: KedroVizPythonVersionWarning: Please   \u001b[2m               \u001b[0m\n",
       "\u001b[2;36m                    \u001b[0m         be advised that Kedro Viz is not yet fully                             \u001b[2m               \u001b[0m\n",
       "\u001b[2;36m                    \u001b[0m                 compatible with the Python version you are currently using.    \u001b[2m               \u001b[0m\n",
       "\u001b[2;36m                    \u001b[0m           \u001b[1;35mwarnings.warn\u001b[0m\u001b[1m(\u001b[0m                                                       \u001b[2m               \u001b[0m\n",
       "\u001b[2;36m                    \u001b[0m                                                                                \u001b[2m               \u001b[0m\n"
      ]
     },
     "metadata": {},
     "output_type": "display_data"
    },
    {
     "data": {
      "text/html": [
       "<pre style=\"white-space:pre;overflow-x:auto;line-height:normal;font-family:Menlo,'DejaVu Sans Mono',consolas,'Courier New',monospace\"><span style=\"color: #7fbfbf; text-decoration-color: #7fbfbf\">[11/12/24 08:50:51] </span><span style=\"color: #000080; text-decoration-color: #000080\">INFO    </span> Kedro project desalkila                                                <a href=\"file:///home/juanlu/Projects/Personal/desalkila/.venv/lib/python3.12/site-packages/kedro/ipython/__init__.py\" target=\"_blank\"><span style=\"color: #7f7f7f; text-decoration-color: #7f7f7f\">__init__.py</span></a><span style=\"color: #7f7f7f; text-decoration-color: #7f7f7f\">:</span><a href=\"file:///home/juanlu/Projects/Personal/desalkila/.venv/lib/python3.12/site-packages/kedro/ipython/__init__.py#141\" target=\"_blank\"><span style=\"color: #7f7f7f; text-decoration-color: #7f7f7f\">141</span></a>\n",
       "</pre>\n"
      ],
      "text/plain": [
       "\u001b[2;36m[11/12/24 08:50:51]\u001b[0m\u001b[2;36m \u001b[0m\u001b[34mINFO    \u001b[0m Kedro project desalkila                                                \u001b]8;id=648899;file:///home/juanlu/Projects/Personal/desalkila/.venv/lib/python3.12/site-packages/kedro/ipython/__init__.py\u001b\\\u001b[2m__init__.py\u001b[0m\u001b]8;;\u001b\\\u001b[2m:\u001b[0m\u001b]8;id=246295;file:///home/juanlu/Projects/Personal/desalkila/.venv/lib/python3.12/site-packages/kedro/ipython/__init__.py#141\u001b\\\u001b[2m141\u001b[0m\u001b]8;;\u001b\\\n"
      ]
     },
     "metadata": {},
     "output_type": "display_data"
    },
    {
     "data": {
      "text/html": [
       "<pre style=\"white-space:pre;overflow-x:auto;line-height:normal;font-family:Menlo,'DejaVu Sans Mono',consolas,'Courier New',monospace\"><span style=\"color: #7fbfbf; text-decoration-color: #7fbfbf\">                    </span><span style=\"color: #000080; text-decoration-color: #000080\">INFO    </span> Defined global variable <span style=\"color: #008000; text-decoration-color: #008000\">'context'</span>, <span style=\"color: #008000; text-decoration-color: #008000\">'session'</span>, <span style=\"color: #008000; text-decoration-color: #008000\">'catalog'</span> and            <a href=\"file:///home/juanlu/Projects/Personal/desalkila/.venv/lib/python3.12/site-packages/kedro/ipython/__init__.py\" target=\"_blank\"><span style=\"color: #7f7f7f; text-decoration-color: #7f7f7f\">__init__.py</span></a><span style=\"color: #7f7f7f; text-decoration-color: #7f7f7f\">:</span><a href=\"file:///home/juanlu/Projects/Personal/desalkila/.venv/lib/python3.12/site-packages/kedro/ipython/__init__.py#142\" target=\"_blank\"><span style=\"color: #7f7f7f; text-decoration-color: #7f7f7f\">142</span></a>\n",
       "<span style=\"color: #7fbfbf; text-decoration-color: #7fbfbf\">                    </span>         <span style=\"color: #008000; text-decoration-color: #008000\">'pipelines'</span>                                                            <span style=\"color: #7f7f7f; text-decoration-color: #7f7f7f\">               </span>\n",
       "</pre>\n"
      ],
      "text/plain": [
       "\u001b[2;36m                   \u001b[0m\u001b[2;36m \u001b[0m\u001b[34mINFO    \u001b[0m Defined global variable \u001b[32m'context'\u001b[0m, \u001b[32m'session'\u001b[0m, \u001b[32m'catalog'\u001b[0m and            \u001b]8;id=417282;file:///home/juanlu/Projects/Personal/desalkila/.venv/lib/python3.12/site-packages/kedro/ipython/__init__.py\u001b\\\u001b[2m__init__.py\u001b[0m\u001b]8;;\u001b\\\u001b[2m:\u001b[0m\u001b]8;id=966902;file:///home/juanlu/Projects/Personal/desalkila/.venv/lib/python3.12/site-packages/kedro/ipython/__init__.py#142\u001b\\\u001b[2m142\u001b[0m\u001b]8;;\u001b\\\n",
       "\u001b[2;36m                    \u001b[0m         \u001b[32m'pipelines'\u001b[0m                                                            \u001b[2m               \u001b[0m\n"
      ]
     },
     "metadata": {},
     "output_type": "display_data"
    },
    {
     "data": {
      "text/html": [
       "<pre style=\"white-space:pre;overflow-x:auto;line-height:normal;font-family:Menlo,'DejaVu Sans Mono',consolas,'Courier New',monospace\"><span style=\"color: #7fbfbf; text-decoration-color: #7fbfbf\">                    </span><span style=\"color: #000080; text-decoration-color: #000080\">INFO    </span> Registered line magic <span style=\"color: #008000; text-decoration-color: #008000\">'run_viz'</span>                                        <a href=\"file:///home/juanlu/Projects/Personal/desalkila/.venv/lib/python3.12/site-packages/kedro/ipython/__init__.py\" target=\"_blank\"><span style=\"color: #7f7f7f; text-decoration-color: #7f7f7f\">__init__.py</span></a><span style=\"color: #7f7f7f; text-decoration-color: #7f7f7f\">:</span><a href=\"file:///home/juanlu/Projects/Personal/desalkila/.venv/lib/python3.12/site-packages/kedro/ipython/__init__.py#148\" target=\"_blank\"><span style=\"color: #7f7f7f; text-decoration-color: #7f7f7f\">148</span></a>\n",
       "</pre>\n"
      ],
      "text/plain": [
       "\u001b[2;36m                   \u001b[0m\u001b[2;36m \u001b[0m\u001b[34mINFO    \u001b[0m Registered line magic \u001b[32m'run_viz'\u001b[0m                                        \u001b]8;id=75447;file:///home/juanlu/Projects/Personal/desalkila/.venv/lib/python3.12/site-packages/kedro/ipython/__init__.py\u001b\\\u001b[2m__init__.py\u001b[0m\u001b]8;;\u001b\\\u001b[2m:\u001b[0m\u001b]8;id=93606;file:///home/juanlu/Projects/Personal/desalkila/.venv/lib/python3.12/site-packages/kedro/ipython/__init__.py#148\u001b\\\u001b[2m148\u001b[0m\u001b]8;;\u001b\\\n"
      ]
     },
     "metadata": {},
     "output_type": "display_data"
    }
   ],
   "source": [
    "%load_ext kedro.ipython"
   ]
  },
  {
   "cell_type": "code",
   "execution_count": 2,
   "id": "853a1fdd-5171-4524-ba76-f15ff5909efd",
   "metadata": {},
   "outputs": [
    {
     "data": {
      "text/html": [
       "<pre style=\"white-space:pre;overflow-x:auto;line-height:normal;font-family:Menlo,'DejaVu Sans Mono',consolas,'Courier New',monospace\"></pre>\n"
      ],
      "text/plain": []
     },
     "metadata": {},
     "output_type": "display_data"
    },
    {
     "data": {
      "text/plain": [
       "\n",
       "\u001b[1m[\u001b[0m\n",
       "    \u001b[32m'callejero_vigente_source'\u001b[0m,\n",
       "    \u001b[32m'callejero_historico_source'\u001b[0m,\n",
       "    \u001b[32m'barrios_source'\u001b[0m,\n",
       "    \u001b[32m'registro_cam_source'\u001b[0m,\n",
       "    \u001b[32m'vut_madrid_source'\u001b[0m,\n",
       "    \u001b[32m'airbnb_madrid_source'\u001b[0m\n",
       "\u001b[1m]\u001b[0m"
      ]
     },
     "execution_count": 2,
     "metadata": {},
     "output_type": "execute_result"
    }
   ],
   "source": [
    "catalog.list(\".*source\")"
   ]
  },
  {
   "cell_type": "code",
   "execution_count": 3,
   "id": "b80cf989-901d-415e-89bb-32e5177c2400",
   "metadata": {},
   "outputs": [
    {
     "data": {
      "text/html": [
       "<pre style=\"white-space:pre;overflow-x:auto;line-height:normal;font-family:Menlo,'DejaVu Sans Mono',consolas,'Courier New',monospace\"><span style=\"color: #7fbfbf; text-decoration-color: #7fbfbf\">                    </span><span style=\"color: #000080; text-decoration-color: #000080\">INFO    </span> Loading data from airbnb_madrid_source <span style=\"font-weight: bold\">(</span>SimplePolarsCSVDataset<span style=\"font-weight: bold\">)</span><span style=\"color: #808000; text-decoration-color: #808000\">...</span> <a href=\"file:///home/juanlu/Projects/Personal/desalkila/.venv/lib/python3.12/site-packages/kedro/io/data_catalog.py\" target=\"_blank\"><span style=\"color: #7f7f7f; text-decoration-color: #7f7f7f\">data_catalog.py</span></a><span style=\"color: #7f7f7f; text-decoration-color: #7f7f7f\">:</span><a href=\"file:///home/juanlu/Projects/Personal/desalkila/.venv/lib/python3.12/site-packages/kedro/io/data_catalog.py#537\" target=\"_blank\"><span style=\"color: #7f7f7f; text-decoration-color: #7f7f7f\">537</span></a>\n",
       "</pre>\n"
      ],
      "text/plain": [
       "\u001b[2;36m                   \u001b[0m\u001b[2;36m \u001b[0m\u001b[34mINFO    \u001b[0m Loading data from airbnb_madrid_source \u001b[1m(\u001b[0mSimplePolarsCSVDataset\u001b[1m)\u001b[0m\u001b[33m...\u001b[0m \u001b]8;id=189908;file:///home/juanlu/Projects/Personal/desalkila/.venv/lib/python3.12/site-packages/kedro/io/data_catalog.py\u001b\\\u001b[2mdata_catalog.py\u001b[0m\u001b]8;;\u001b\\\u001b[2m:\u001b[0m\u001b]8;id=934717;file:///home/juanlu/Projects/Personal/desalkila/.venv/lib/python3.12/site-packages/kedro/io/data_catalog.py#537\u001b\\\u001b[2m537\u001b[0m\u001b]8;;\u001b\\\n"
      ]
     },
     "metadata": {},
     "output_type": "display_data"
    }
   ],
   "source": [
    "df_airbnb = catalog.load(\"airbnb_madrid_source\")"
   ]
  },
  {
   "cell_type": "code",
   "execution_count": 4,
   "id": "51e5ad96-1c24-4896-910f-1790ed3bb4e9",
   "metadata": {},
   "outputs": [
    {
     "data": {
      "text/html": [
       "<pre style=\"white-space:pre;overflow-x:auto;line-height:normal;font-family:Menlo,'DejaVu Sans Mono',consolas,'Courier New',monospace\"></pre>\n"
      ],
      "text/plain": []
     },
     "metadata": {},
     "output_type": "display_data"
    },
    {
     "data": {
      "text/html": [
       "<div><style>\n",
       ".dataframe > thead > tr,\n",
       ".dataframe > tbody > tr {\n",
       "  text-align: right;\n",
       "  white-space: pre-wrap;\n",
       "}\n",
       "</style>\n",
       "<small>shape: (5, 75)</small><table border=\"1\" class=\"dataframe\"><thead><tr><th>id</th><th>listing_url</th><th>scrape_id</th><th>last_scraped</th><th>source</th><th>name</th><th>description</th><th>neighborhood_overview</th><th>picture_url</th><th>host_id</th><th>host_url</th><th>host_name</th><th>host_since</th><th>host_location</th><th>host_about</th><th>host_response_time</th><th>host_response_rate</th><th>host_acceptance_rate</th><th>host_is_superhost</th><th>host_thumbnail_url</th><th>host_picture_url</th><th>host_neighbourhood</th><th>host_listings_count</th><th>host_total_listings_count</th><th>host_verifications</th><th>host_has_profile_pic</th><th>host_identity_verified</th><th>neighbourhood</th><th>neighbourhood_cleansed</th><th>neighbourhood_group_cleansed</th><th>latitude</th><th>longitude</th><th>property_type</th><th>room_type</th><th>accommodates</th><th>bathrooms</th><th>bathrooms_text</th><th>bedrooms</th><th>beds</th><th>amenities</th><th>price</th><th>minimum_nights</th><th>maximum_nights</th><th>minimum_minimum_nights</th><th>maximum_minimum_nights</th><th>minimum_maximum_nights</th><th>maximum_maximum_nights</th><th>minimum_nights_avg_ntm</th><th>maximum_nights_avg_ntm</th><th>calendar_updated</th><th>has_availability</th><th>availability_30</th><th>availability_60</th><th>availability_90</th><th>availability_365</th><th>calendar_last_scraped</th><th>number_of_reviews</th><th>number_of_reviews_ltm</th><th>number_of_reviews_l30d</th><th>first_review</th><th>last_review</th><th>review_scores_rating</th><th>review_scores_accuracy</th><th>review_scores_cleanliness</th><th>review_scores_checkin</th><th>review_scores_communication</th><th>review_scores_location</th><th>review_scores_value</th><th>license</th><th>instant_bookable</th><th>calculated_host_listings_count</th><th>calculated_host_listings_count_entire_homes</th><th>calculated_host_listings_count_private_rooms</th><th>calculated_host_listings_count_shared_rooms</th><th>reviews_per_month</th></tr><tr><td>i64</td><td>str</td><td>i64</td><td>date</td><td>str</td><td>str</td><td>str</td><td>str</td><td>str</td><td>i64</td><td>str</td><td>str</td><td>date</td><td>str</td><td>str</td><td>str</td><td>str</td><td>str</td><td>str</td><td>str</td><td>str</td><td>str</td><td>i64</td><td>i64</td><td>str</td><td>str</td><td>str</td><td>str</td><td>str</td><td>str</td><td>f64</td><td>f64</td><td>str</td><td>str</td><td>i64</td><td>f64</td><td>str</td><td>i64</td><td>i64</td><td>str</td><td>str</td><td>i64</td><td>i64</td><td>i64</td><td>i64</td><td>i64</td><td>i64</td><td>f64</td><td>f64</td><td>str</td><td>str</td><td>i64</td><td>i64</td><td>i64</td><td>i64</td><td>date</td><td>i64</td><td>i64</td><td>i64</td><td>date</td><td>date</td><td>f64</td><td>f64</td><td>f64</td><td>f64</td><td>f64</td><td>f64</td><td>f64</td><td>str</td><td>str</td><td>i64</td><td>i64</td><td>i64</td><td>i64</td><td>f64</td></tr></thead><tbody><tr><td>1104967621421098322</td><td>&quot;https://www.airbnb.com/rooms/1…</td><td>20240615011404</td><td>2024-06-15</td><td>&quot;city scrape&quot;</td><td>&quot;Habitación de lujo, baño priva…</td><td>null</td><td>null</td><td>&quot;https://a0.muscache.com/pictur…</td><td>565307927</td><td>&quot;https://www.airbnb.com/users/s…</td><td>&quot;Carolina&quot;</td><td>2024-03-04</td><td>&quot;Madrid, Spain&quot;</td><td>&quot;Hola; mi nombre es Carolina; t…</td><td>&quot;within an hour&quot;</td><td>&quot;100%&quot;</td><td>&quot;100%&quot;</td><td>&quot;f&quot;</td><td>&quot;https://a0.muscache.com/im/pic…</td><td>&quot;https://a0.muscache.com/im/pic…</td><td>null</td><td>1</td><td>1</td><td>&quot;[&#x27;email&#x27;, &#x27;phone&#x27;]&quot;</td><td>&quot;t&quot;</td><td>&quot;t&quot;</td><td>null</td><td>&quot;Pacífico&quot;</td><td>&quot;Retiro&quot;</td><td>40.40698</td><td>-3.675015</td><td>&quot;Private room in rental unit&quot;</td><td>&quot;Private room&quot;</td><td>2</td><td>1.0</td><td>&quot;1 bath&quot;</td><td>1</td><td>0</td><td>&quot;[]&quot;</td><td>&quot;$68.00&quot;</td><td>1</td><td>30</td><td>1</td><td>1</td><td>30</td><td>30</td><td>1.0</td><td>30.0</td><td>null</td><td>&quot;t&quot;</td><td>2</td><td>2</td><td>2</td><td>2</td><td>2024-06-15</td><td>2</td><td>2</td><td>0</td><td>2024-03-10</td><td>2024-05-08</td><td>4.5</td><td>5.0</td><td>5.0</td><td>5.0</td><td>5.0</td><td>5.0</td><td>5.0</td><td>null</td><td>&quot;f&quot;</td><td>1</td><td>0</td><td>1</td><td>0</td><td>0.61</td></tr><tr><td>930941073152690361</td><td>&quot;https://www.airbnb.com/rooms/9…</td><td>20240615011404</td><td>2024-06-15</td><td>&quot;city scrape&quot;</td><td>&quot;habitación para pareja&quot;</td><td>&quot;Rent room for loose nights or …</td><td>null</td><td>&quot;https://a0.muscache.com/pictur…</td><td>442944608</td><td>&quot;https://www.airbnb.com/users/s…</td><td>&quot;Jonathan Jesus&quot;</td><td>2022-01-31</td><td>&quot;Madrid, Spain&quot;</td><td>&quot;somos una pareja de dos chicos…</td><td>&quot;a few days or more&quot;</td><td>&quot;0%&quot;</td><td>&quot;57%&quot;</td><td>&quot;f&quot;</td><td>&quot;https://a0.muscache.com/im/pic…</td><td>&quot;https://a0.muscache.com/im/pic…</td><td>null</td><td>2</td><td>4</td><td>&quot;[&#x27;phone&#x27;]&quot;</td><td>&quot;t&quot;</td><td>&quot;t&quot;</td><td>null</td><td>&quot;San Diego&quot;</td><td>&quot;Puente de Vallecas&quot;</td><td>40.3921</td><td>-3.67003</td><td>&quot;Private room in rental unit&quot;</td><td>&quot;Private room&quot;</td><td>2</td><td>1.0</td><td>&quot;1 bath&quot;</td><td>1</td><td>1</td><td>&quot;[&quot;Wifi&quot;]&quot;</td><td>&quot;$16.00&quot;</td><td>1</td><td>365</td><td>1</td><td>1</td><td>365</td><td>365</td><td>1.0</td><td>365.0</td><td>null</td><td>&quot;t&quot;</td><td>0</td><td>8</td><td>18</td><td>185</td><td>2024-06-15</td><td>3</td><td>3</td><td>0</td><td>2023-07-29</td><td>2023-10-04</td><td>5.0</td><td>5.0</td><td>5.0</td><td>5.0</td><td>5.0</td><td>4.67</td><td>5.0</td><td>null</td><td>&quot;f&quot;</td><td>2</td><td>0</td><td>2</td><td>0</td><td>0.28</td></tr><tr><td>51647382</td><td>&quot;https://www.airbnb.com/rooms/5…</td><td>20240615011404</td><td>2024-06-15</td><td>&quot;city scrape&quot;</td><td>&quot;Buenos Aires en Madrid&quot;</td><td>&quot;This special place is close to…</td><td>&quot;The neighborhood is m&quot;</td><td>&quot;https://a0.muscache.com/pictur…</td><td>252336445</td><td>&quot;https://www.airbnb.com/users/s…</td><td>&quot;Norma&quot;</td><td>2019-03-31</td><td>&quot;Madrid, Spain&quot;</td><td>&quot;Aire Fresco&quot;</td><td>&quot;within an hour&quot;</td><td>&quot;100%&quot;</td><td>&quot;100%&quot;</td><td>&quot;f&quot;</td><td>&quot;https://a0.muscache.com/im/pic…</td><td>&quot;https://a0.muscache.com/im/pic…</td><td>null</td><td>2</td><td>2</td><td>&quot;[&#x27;email&#x27;, &#x27;phone&#x27;]&quot;</td><td>&quot;t&quot;</td><td>&quot;t&quot;</td><td>&quot;Madrid, Comunidad de Madrid, S…</td><td>&quot;San Diego&quot;</td><td>&quot;Puente de Vallecas&quot;</td><td>40.39511</td><td>-3.67143</td><td>&quot;Private room in home&quot;</td><td>&quot;Private room&quot;</td><td>1</td><td>1.0</td><td>&quot;1 shared bath&quot;</td><td>2</td><td>3</td><td>&quot;[&quot;Outdoor dining area&quot;, &quot;TV&quot;, …</td><td>&quot;$25.00&quot;</td><td>1</td><td>1125</td><td>1</td><td>1</td><td>1125</td><td>1125</td><td>1.0</td><td>1125.0</td><td>null</td><td>&quot;t&quot;</td><td>21</td><td>51</td><td>81</td><td>356</td><td>2024-06-15</td><td>186</td><td>65</td><td>7</td><td>2021-08-17</td><td>2024-05-29</td><td>4.67</td><td>4.71</td><td>4.59</td><td>4.8</td><td>4.83</td><td>4.51</td><td>4.61</td><td>null</td><td>&quot;t&quot;</td><td>2</td><td>0</td><td>2</td><td>0</td><td>5.4</td></tr><tr><td>1026072412626070839</td><td>&quot;https://www.airbnb.com/rooms/1…</td><td>20240615011404</td><td>2024-06-15</td><td>&quot;city scrape&quot;</td><td>&quot;Habitación Madrid Rio!&quot;</td><td>&quot;Enjoy the simplicity of this q…</td><td>null</td><td>&quot;https://a0.muscache.com/pictur…</td><td>545435841</td><td>&quot;https://www.airbnb.com/users/s…</td><td>&quot;Gean Piero&quot;</td><td>2023-11-07</td><td>null</td><td>&quot;&quot;</td><td>&quot;N/A&quot;</td><td>&quot;N/A&quot;</td><td>&quot;33%&quot;</td><td>&quot;f&quot;</td><td>&quot;https://a0.muscache.com/im/pic…</td><td>&quot;https://a0.muscache.com/im/pic…</td><td>null</td><td>1</td><td>1</td><td>&quot;[&#x27;email&#x27;, &#x27;phone&#x27;]&quot;</td><td>&quot;t&quot;</td><td>&quot;t&quot;</td><td>null</td><td>&quot;Opañel&quot;</td><td>&quot;Carabanchel&quot;</td><td>40.395555</td><td>-3.716437</td><td>&quot;Private room in rental unit&quot;</td><td>&quot;Private room&quot;</td><td>3</td><td>1.0</td><td>&quot;1 shared bath&quot;</td><td>1</td><td>2</td><td>&quot;[&quot;Lock on bedroom door&quot;, &quot;Wifi…</td><td>&quot;$26.00&quot;</td><td>2</td><td>365</td><td>2</td><td>2</td><td>365</td><td>365</td><td>2.0</td><td>365.0</td><td>null</td><td>&quot;t&quot;</td><td>0</td><td>0</td><td>12</td><td>12</td><td>2024-06-15</td><td>1</td><td>1</td><td>0</td><td>2023-11-20</td><td>2023-11-20</td><td>5.0</td><td>5.0</td><td>5.0</td><td>5.0</td><td>5.0</td><td>5.0</td><td>5.0</td><td>null</td><td>&quot;f&quot;</td><td>1</td><td>0</td><td>1</td><td>0</td><td>0.14</td></tr><tr><td>766423030884644417</td><td>&quot;https://www.airbnb.com/rooms/7…</td><td>20240615011404</td><td>2024-06-15</td><td>&quot;city scrape&quot;</td><td>&quot;habitación para turista&quot;</td><td>&quot;Enjoy a stylish experience at …</td><td>null</td><td>&quot;https://a0.muscache.com/pictur…</td><td>3882456</td><td>&quot;https://www.airbnb.com/users/s…</td><td>&quot;Gabriela CHÁVEZ&quot;</td><td>2012-10-15</td><td>&quot;Madrid, Spain&quot;</td><td>&quot;Viajera incansable, muy preocu…</td><td>&quot;N/A&quot;</td><td>&quot;N/A&quot;</td><td>&quot;N/A&quot;</td><td>&quot;f&quot;</td><td>&quot;https://a0.muscache.com/im/pic…</td><td>&quot;https://a0.muscache.com/im/pic…</td><td>null</td><td>2</td><td>4</td><td>&quot;[&#x27;email&#x27;, &#x27;phone&#x27;, &#x27;work_email…</td><td>&quot;t&quot;</td><td>&quot;t&quot;</td><td>null</td><td>&quot;Lista&quot;</td><td>&quot;Salamanca&quot;</td><td>40.43045</td><td>-3.6721</td><td>&quot;Private room in rental unit&quot;</td><td>&quot;Private room&quot;</td><td>1</td><td>1.0</td><td>&quot;1 shared bath&quot;</td><td>1</td><td>1</td><td>&quot;[&quot;Washer&quot;, &quot;Lock on bedroom do…</td><td>&quot;$100.00&quot;</td><td>7</td><td>10</td><td>7</td><td>7</td><td>10</td><td>10</td><td>7.0</td><td>10.0</td><td>null</td><td>&quot;t&quot;</td><td>29</td><td>59</td><td>89</td><td>364</td><td>2024-06-15</td><td>0</td><td>0</td><td>0</td><td>null</td><td>null</td><td>null</td><td>null</td><td>null</td><td>null</td><td>null</td><td>null</td><td>null</td><td>null</td><td>&quot;f&quot;</td><td>1</td><td>0</td><td>1</td><td>0</td><td>null</td></tr></tbody></table></div>"
      ],
      "text/plain": [
       "\n",
       "shape: \u001b[1m(\u001b[0m\u001b[1;36m5\u001b[0m, \u001b[1;36m75\u001b[0m\u001b[1m)\u001b[0m\n",
       "┌───────────┬───────────┬───────────┬───────────┬───┬───────────┬───────────┬───────────┬──────────┐\n",
       "│ id        ┆ listing_u ┆ scrape_id ┆ last_scra ┆ … ┆ calculate ┆ calculate ┆ calculate ┆ reviews_ │\n",
       "│ ---       ┆ rl        ┆ ---       ┆ ped       ┆   ┆ d_host_li ┆ d_host_li ┆ d_host_li ┆ per_mont │\n",
       "│ i64       ┆ ---       ┆ i64       ┆ ---       ┆   ┆ stings_co ┆ stings_co ┆ stings_co ┆ h        │\n",
       "│           ┆ str       ┆           ┆ date      ┆   ┆ unt…      ┆ unt…      ┆ unt…      ┆ ---      │\n",
       "│           ┆           ┆           ┆           ┆   ┆ ---       ┆ ---       ┆ ---       ┆ f64      │\n",
       "│           ┆           ┆           ┆           ┆   ┆ i64       ┆ i64       ┆ i64       ┆          │\n",
       "╞═══════════╪═══════════╪═══════════╪═══════════╪═══╪═══════════╪═══════════╪═══════════╪══════════╡\n",
       "│ \u001b[1;36m110496762\u001b[0m ┆ \u001b[4;94mhttps://w\u001b[0m ┆ \u001b[1;36m202406150\u001b[0m ┆ \u001b[1;36m2024\u001b[0m-\u001b[1;36m06\u001b[0m-\u001b[1;36m1\u001b[0m ┆ … ┆ \u001b[1;36m0\u001b[0m         ┆ \u001b[1;36m1\u001b[0m         ┆ \u001b[1;36m0\u001b[0m         ┆ \u001b[1;36m0.61\u001b[0m     │\n",
       "│ \u001b[1;36m142109832\u001b[0m ┆ ww.airbnb ┆ \u001b[1;36m11404\u001b[0m     ┆ \u001b[1;36m5\u001b[0m         ┆   ┆           ┆           ┆           ┆          │\n",
       "│ \u001b[1;36m2\u001b[0m         ┆ .com/room ┆           ┆           ┆   ┆           ┆           ┆           ┆          │\n",
       "│           ┆ s/\u001b[1;36m1\u001b[0m…      ┆           ┆           ┆   ┆           ┆           ┆           ┆          │\n",
       "│ \u001b[1;36m930941073\u001b[0m ┆ \u001b[4;94mhttps://w\u001b[0m ┆ \u001b[1;36m202406150\u001b[0m ┆ \u001b[1;36m2024\u001b[0m-\u001b[1;36m06\u001b[0m-\u001b[1;36m1\u001b[0m ┆ … ┆ \u001b[1;36m0\u001b[0m         ┆ \u001b[1;36m2\u001b[0m         ┆ \u001b[1;36m0\u001b[0m         ┆ \u001b[1;36m0.28\u001b[0m     │\n",
       "│ \u001b[1;36m152690361\u001b[0m ┆ ww.airbnb ┆ \u001b[1;36m11404\u001b[0m     ┆ \u001b[1;36m5\u001b[0m         ┆   ┆           ┆           ┆           ┆          │\n",
       "│           ┆ .com/room ┆           ┆           ┆   ┆           ┆           ┆           ┆          │\n",
       "│           ┆ s/\u001b[1;36m9\u001b[0m…      ┆           ┆           ┆   ┆           ┆           ┆           ┆          │\n",
       "│ \u001b[1;36m51647382\u001b[0m  ┆ \u001b[4;94mhttps://w\u001b[0m ┆ \u001b[1;36m202406150\u001b[0m ┆ \u001b[1;36m2024\u001b[0m-\u001b[1;36m06\u001b[0m-\u001b[1;36m1\u001b[0m ┆ … ┆ \u001b[1;36m0\u001b[0m         ┆ \u001b[1;36m2\u001b[0m         ┆ \u001b[1;36m0\u001b[0m         ┆ \u001b[1;36m5.4\u001b[0m      │\n",
       "│           ┆ ww.airbnb ┆ \u001b[1;36m11404\u001b[0m     ┆ \u001b[1;36m5\u001b[0m         ┆   ┆           ┆           ┆           ┆          │\n",
       "│           ┆ .com/room ┆           ┆           ┆   ┆           ┆           ┆           ┆          │\n",
       "│           ┆ s/\u001b[1;36m5\u001b[0m…      ┆           ┆           ┆   ┆           ┆           ┆           ┆          │\n",
       "│ \u001b[1;36m102607241\u001b[0m ┆ \u001b[4;94mhttps://w\u001b[0m ┆ \u001b[1;36m202406150\u001b[0m ┆ \u001b[1;36m2024\u001b[0m-\u001b[1;36m06\u001b[0m-\u001b[1;36m1\u001b[0m ┆ … ┆ \u001b[1;36m0\u001b[0m         ┆ \u001b[1;36m1\u001b[0m         ┆ \u001b[1;36m0\u001b[0m         ┆ \u001b[1;36m0.14\u001b[0m     │\n",
       "│ \u001b[1;36m262607083\u001b[0m ┆ ww.airbnb ┆ \u001b[1;36m11404\u001b[0m     ┆ \u001b[1;36m5\u001b[0m         ┆   ┆           ┆           ┆           ┆          │\n",
       "│ \u001b[1;36m9\u001b[0m         ┆ .com/room ┆           ┆           ┆   ┆           ┆           ┆           ┆          │\n",
       "│           ┆ s/\u001b[1;36m1\u001b[0m…      ┆           ┆           ┆   ┆           ┆           ┆           ┆          │\n",
       "│ \u001b[1;36m766423030\u001b[0m ┆ \u001b[4;94mhttps://w\u001b[0m ┆ \u001b[1;36m202406150\u001b[0m ┆ \u001b[1;36m2024\u001b[0m-\u001b[1;36m06\u001b[0m-\u001b[1;36m1\u001b[0m ┆ … ┆ \u001b[1;36m0\u001b[0m         ┆ \u001b[1;36m1\u001b[0m         ┆ \u001b[1;36m0\u001b[0m         ┆ null     │\n",
       "│ \u001b[1;36m884644417\u001b[0m ┆ ww.airbnb ┆ \u001b[1;36m11404\u001b[0m     ┆ \u001b[1;36m5\u001b[0m         ┆   ┆           ┆           ┆           ┆          │\n",
       "│           ┆ .com/room ┆           ┆           ┆   ┆           ┆           ┆           ┆          │\n",
       "│           ┆ s/\u001b[1;36m7\u001b[0m…      ┆           ┆           ┆   ┆           ┆           ┆           ┆          │\n",
       "└───────────┴───────────┴───────────┴───────────┴───┴───────────┴───────────┴───────────┴──────────┘"
      ]
     },
     "execution_count": 4,
     "metadata": {},
     "output_type": "execute_result"
    }
   ],
   "source": [
    "df_airbnb.head()"
   ]
  },
  {
   "cell_type": "code",
   "execution_count": 5,
   "id": "62bb42ef-e664-4262-a154-c24bb6227482",
   "metadata": {},
   "outputs": [],
   "source": [
    "import polars as pl"
   ]
  },
  {
   "cell_type": "code",
   "execution_count": 6,
   "id": "0744a7fe-9196-49c6-9d4b-02197b5aba56",
   "metadata": {},
   "outputs": [
    {
     "data": {
      "text/html": [
       "<pre style=\"white-space:pre;overflow-x:auto;line-height:normal;font-family:Menlo,'DejaVu Sans Mono',consolas,'Courier New',monospace\"></pre>\n"
      ],
      "text/plain": []
     },
     "metadata": {},
     "output_type": "display_data"
    },
    {
     "data": {
      "text/html": [
       "<div><style>\n",
       ".dataframe > thead > tr,\n",
       ".dataframe > tbody > tr {\n",
       "  text-align: right;\n",
       "  white-space: pre-wrap;\n",
       "}\n",
       "</style>\n",
       "<small>shape: (5, 13)</small><table border=\"1\" class=\"dataframe\"><thead><tr><th>id</th><th>name</th><th>host_name</th><th>neighbourhood_group_cleansed</th><th>latitude</th><th>longitude</th><th>price</th><th>property_type</th><th>room_type</th><th>license</th><th>number_of_reviews</th><th>review_scores_rating</th><th>instant_bookable</th></tr><tr><td>i64</td><td>str</td><td>str</td><td>str</td><td>f64</td><td>f64</td><td>decimal[*,2]</td><td>str</td><td>str</td><td>str</td><td>i64</td><td>f64</td><td>bool</td></tr></thead><tbody><tr><td>1104967621421098322</td><td>&quot;Habitación de lujo, baño priva…</td><td>&quot;Carolina&quot;</td><td>&quot;Retiro&quot;</td><td>40.40698</td><td>-3.675015</td><td>68.00</td><td>&quot;Private room in rental unit&quot;</td><td>&quot;Private room&quot;</td><td>null</td><td>2</td><td>4.5</td><td>false</td></tr><tr><td>930941073152690361</td><td>&quot;habitación para pareja&quot;</td><td>&quot;Jonathan Jesus&quot;</td><td>&quot;Puente de Vallecas&quot;</td><td>40.3921</td><td>-3.67003</td><td>16.00</td><td>&quot;Private room in rental unit&quot;</td><td>&quot;Private room&quot;</td><td>null</td><td>3</td><td>5.0</td><td>false</td></tr><tr><td>51647382</td><td>&quot;Buenos Aires en Madrid&quot;</td><td>&quot;Norma&quot;</td><td>&quot;Puente de Vallecas&quot;</td><td>40.39511</td><td>-3.67143</td><td>25.00</td><td>&quot;Private room in home&quot;</td><td>&quot;Private room&quot;</td><td>null</td><td>186</td><td>4.67</td><td>true</td></tr><tr><td>1026072412626070839</td><td>&quot;Habitación Madrid Rio!&quot;</td><td>&quot;Gean Piero&quot;</td><td>&quot;Carabanchel&quot;</td><td>40.395555</td><td>-3.716437</td><td>26.00</td><td>&quot;Private room in rental unit&quot;</td><td>&quot;Private room&quot;</td><td>null</td><td>1</td><td>5.0</td><td>false</td></tr><tr><td>766423030884644417</td><td>&quot;habitación para turista&quot;</td><td>&quot;Gabriela CHÁVEZ&quot;</td><td>&quot;Salamanca&quot;</td><td>40.43045</td><td>-3.6721</td><td>100.00</td><td>&quot;Private room in rental unit&quot;</td><td>&quot;Private room&quot;</td><td>null</td><td>0</td><td>null</td><td>false</td></tr></tbody></table></div>"
      ],
      "text/plain": [
       "\n",
       "shape: \u001b[1m(\u001b[0m\u001b[1;36m5\u001b[0m, \u001b[1;36m13\u001b[0m\u001b[1m)\u001b[0m\n",
       "┌────────────┬───────────┬───────────┬───────────┬───┬─────────┬───────────┬───────────┬───────────┐\n",
       "│ id         ┆ name      ┆ host_name ┆ neighbour ┆ … ┆ license ┆ number_of ┆ review_sc ┆ instant_b │\n",
       "│ ---        ┆ ---       ┆ ---       ┆ hood_grou ┆   ┆ ---     ┆ _reviews  ┆ ores_rati ┆ ookable   │\n",
       "│ i64        ┆ str       ┆ str       ┆ p_cleanse ┆   ┆ str     ┆ ---       ┆ ng        ┆ ---       │\n",
       "│            ┆           ┆           ┆ d         ┆   ┆         ┆ i64       ┆ ---       ┆ bool      │\n",
       "│            ┆           ┆           ┆ ---       ┆   ┆         ┆           ┆ f64       ┆           │\n",
       "│            ┆           ┆           ┆ str       ┆   ┆         ┆           ┆           ┆           │\n",
       "╞════════════╪═══════════╪═══════════╪═══════════╪═══╪═════════╪═══════════╪═══════════╪═══════════╡\n",
       "│ \u001b[1;36m1104967621\u001b[0m ┆ Habitació ┆ Carolina  ┆ Retiro    ┆ … ┆ null    ┆ \u001b[1;36m2\u001b[0m         ┆ \u001b[1;36m4.5\u001b[0m       ┆ false     │\n",
       "│ \u001b[1;36m421098322\u001b[0m  ┆ n de      ┆           ┆           ┆   ┆         ┆           ┆           ┆           │\n",
       "│            ┆ lujo,     ┆           ┆           ┆   ┆         ┆           ┆           ┆           │\n",
       "│            ┆ baño      ┆           ┆           ┆   ┆         ┆           ┆           ┆           │\n",
       "│            ┆ priva…    ┆           ┆           ┆   ┆         ┆           ┆           ┆           │\n",
       "│ \u001b[1;36m9309410731\u001b[0m ┆ habitació ┆ Jonathan  ┆ Puente de ┆ … ┆ null    ┆ \u001b[1;36m3\u001b[0m         ┆ \u001b[1;36m5.0\u001b[0m       ┆ false     │\n",
       "│ \u001b[1;36m52690361\u001b[0m   ┆ n para    ┆ Jesus     ┆ Vallecas  ┆   ┆         ┆           ┆           ┆           │\n",
       "│            ┆ pareja    ┆           ┆           ┆   ┆         ┆           ┆           ┆           │\n",
       "│ \u001b[1;36m51647382\u001b[0m   ┆ Buenos    ┆ Norma     ┆ Puente de ┆ … ┆ null    ┆ \u001b[1;36m186\u001b[0m       ┆ \u001b[1;36m4.67\u001b[0m      ┆ true      │\n",
       "│            ┆ Aires en  ┆           ┆ Vallecas  ┆   ┆         ┆           ┆           ┆           │\n",
       "│            ┆ Madrid    ┆           ┆           ┆   ┆         ┆           ┆           ┆           │\n",
       "│ \u001b[1;36m1026072412\u001b[0m ┆ Habitació ┆ Gean      ┆ Carabanch ┆ … ┆ null    ┆ \u001b[1;36m1\u001b[0m         ┆ \u001b[1;36m5.0\u001b[0m       ┆ false     │\n",
       "│ \u001b[1;36m626070839\u001b[0m  ┆ n Madrid  ┆ Piero     ┆ el        ┆   ┆         ┆           ┆           ┆           │\n",
       "│            ┆ Rio!      ┆           ┆           ┆   ┆         ┆           ┆           ┆           │\n",
       "│ \u001b[1;36m7664230308\u001b[0m ┆ habitació ┆ Gabriela  ┆ Salamanca ┆ … ┆ null    ┆ \u001b[1;36m0\u001b[0m         ┆ null      ┆ false     │\n",
       "│ \u001b[1;36m84644417\u001b[0m   ┆ n para    ┆ CHÁVEZ    ┆           ┆   ┆         ┆           ┆           ┆           │\n",
       "│            ┆ turista   ┆           ┆           ┆   ┆         ┆           ┆           ┆           │\n",
       "└────────────┴───────────┴───────────┴───────────┴───┴─────────┴───────────┴───────────┴───────────┘"
      ]
     },
     "execution_count": 6,
     "metadata": {},
     "output_type": "execute_result"
    }
   ],
   "source": [
    "df = df_airbnb.select(\n",
    "    \"id\",\n",
    "    # pl.col(\"listing_url\").str.strip_prefix(\"https://www.airbnb.com/\")\n",
    "    \"name\",\n",
    "    \"host_name\",\n",
    "    \"neighbourhood_group_cleansed\",\n",
    "    \"latitude\",\n",
    "    \"longitude\",\n",
    "    pl.col(\"price\").str.strip_prefix(\"$\").str.replace(\",\", \"\").cast(pl.Decimal),\n",
    "    \"property_type\",\n",
    "    \"room_type\",\n",
    "    \"license\",\n",
    "    \"number_of_reviews\",\n",
    "    \"review_scores_rating\",\n",
    "    pl.col(\"instant_bookable\").replace_strict({\"t\": True, \"f\": False}),\n",
    ")\n",
    "df.head()"
   ]
  },
  {
   "cell_type": "code",
   "execution_count": 7,
   "id": "e1a34bf7-5d3a-40bf-8c44-973a75a8d66d",
   "metadata": {},
   "outputs": [
    {
     "data": {
      "text/html": [
       "<pre style=\"white-space:pre;overflow-x:auto;line-height:normal;font-family:Menlo,'DejaVu Sans Mono',consolas,'Courier New',monospace\"></pre>\n"
      ],
      "text/plain": []
     },
     "metadata": {},
     "output_type": "display_data"
    },
    {
     "data": {
      "text/html": [
       "<div><style>\n",
       ".dataframe > thead > tr,\n",
       ".dataframe > tbody > tr {\n",
       "  text-align: right;\n",
       "  white-space: pre-wrap;\n",
       "}\n",
       "</style>\n",
       "<small>shape: (12_834, 3)</small><table border=\"1\" class=\"dataframe\"><thead><tr><th>host_id</th><th>len</th><th>host_name</th></tr><tr><td>i64</td><td>u32</td><td>str</td></tr></thead><tbody><tr><td>346367515</td><td>290</td><td>&quot;Ukio&quot;</td></tr><tr><td>291253690</td><td>289</td><td>&quot;Fran Y Marta Isabel&quot;</td></tr><tr><td>377605855</td><td>289</td><td>&quot;MIT House&quot;</td></tr><tr><td>518713670</td><td>231</td><td>&quot;Bemadrid&quot;</td></tr><tr><td>434208714</td><td>202</td><td>&quot;Blueground&quot;</td></tr><tr><td>&hellip;</td><td>&hellip;</td><td>&hellip;</td></tr><tr><td>555462823</td><td>1</td><td>&quot;Karina&quot;</td></tr><tr><td>131597688</td><td>1</td><td>&quot;Rafael&quot;</td></tr><tr><td>436566585</td><td>1</td><td>&quot;Adela Victoria&quot;</td></tr><tr><td>314433803</td><td>1</td><td>&quot;Ye&quot;</td></tr><tr><td>360288704</td><td>1</td><td>&quot;Jorge&quot;</td></tr></tbody></table></div>"
      ],
      "text/plain": [
       "\n",
       "shape: \u001b[1m(\u001b[0m12_834, \u001b[1;36m3\u001b[0m\u001b[1m)\u001b[0m\n",
       "┌───────────┬─────┬─────────────────────┐\n",
       "│ host_id   ┆ len ┆ host_name           │\n",
       "│ ---       ┆ --- ┆ ---                 │\n",
       "│ i64       ┆ u32 ┆ str                 │\n",
       "╞═══════════╪═════╪═════════════════════╡\n",
       "│ \u001b[1;36m346367515\u001b[0m ┆ \u001b[1;36m290\u001b[0m ┆ Ukio                │\n",
       "│ \u001b[1;36m291253690\u001b[0m ┆ \u001b[1;36m289\u001b[0m ┆ Fran Y Marta Isabel │\n",
       "│ \u001b[1;36m377605855\u001b[0m ┆ \u001b[1;36m289\u001b[0m ┆ MIT House           │\n",
       "│ \u001b[1;36m518713670\u001b[0m ┆ \u001b[1;36m231\u001b[0m ┆ Bemadrid            │\n",
       "│ \u001b[1;36m434208714\u001b[0m ┆ \u001b[1;36m202\u001b[0m ┆ Blueground          │\n",
       "│ …         ┆ …   ┆ …                   │\n",
       "│ \u001b[1;36m555462823\u001b[0m ┆ \u001b[1;36m1\u001b[0m   ┆ Karina              │\n",
       "│ \u001b[1;36m131597688\u001b[0m ┆ \u001b[1;36m1\u001b[0m   ┆ Rafael              │\n",
       "│ \u001b[1;36m436566585\u001b[0m ┆ \u001b[1;36m1\u001b[0m   ┆ Adela Victoria      │\n",
       "│ \u001b[1;36m314433803\u001b[0m ┆ \u001b[1;36m1\u001b[0m   ┆ Ye                  │\n",
       "│ \u001b[1;36m360288704\u001b[0m ┆ \u001b[1;36m1\u001b[0m   ┆ Jorge               │\n",
       "└───────────┴─────┴─────────────────────┘"
      ]
     },
     "execution_count": 7,
     "metadata": {},
     "output_type": "execute_result"
    }
   ],
   "source": [
    "(\n",
    "    df_airbnb\n",
    "    .group_by(\"host_id\").agg(pl.len())\n",
    "    .join(\n",
    "        df_airbnb.select(\"host_id\", \"host_name\").unique(),\n",
    "        on=\"host_id\"\n",
    "    )\n",
    "    .sort(\"len\", descending=True)\n",
    ")"
   ]
  },
  {
   "cell_type": "code",
   "execution_count": 8,
   "id": "09562a12-b3cc-4c93-9d93-70017bd047f7",
   "metadata": {},
   "outputs": [
    {
     "name": "stdout",
     "output_type": "stream",
     "text": [
      "id,name,host_name,neighbourhood_group_cleansed,latitude,longitude,price,property_type,room_type,license,number_of_reviews,review_scores_rating,instant_bookable\n",
      "1104967621421098322,\"Habitación de lujo, baño privado\",Carolina,Retiro,40.4069796,-3.6750154,\"68.00\",Private room in rental unit,Private room,,2,4.5,false\n",
      "\n"
     ]
    }
   ],
   "source": [
    "import io\n",
    "\n",
    "csv_output = io.BytesIO()\n",
    "df.head(1).write_csv(csv_output)\n",
    "csv_output.seek(0)\n",
    "print(csv_output.read().decode(\"utf-8\"))"
   ]
  },
  {
   "cell_type": "code",
   "execution_count": 9,
   "id": "2b3ba71f-be71-45e4-b869-efadce4d4fab",
   "metadata": {},
   "outputs": [
    {
     "data": {
      "text/html": [
       "<pre style=\"white-space:pre;overflow-x:auto;line-height:normal;font-family:Menlo,'DejaVu Sans Mono',consolas,'Courier New',monospace\"></pre>\n"
      ],
      "text/plain": []
     },
     "metadata": {},
     "output_type": "display_data"
    },
    {
     "data": {
      "text/html": [
       "<div><style>\n",
       ".dataframe > thead > tr,\n",
       ".dataframe > tbody > tr {\n",
       "  text-align: right;\n",
       "  white-space: pre-wrap;\n",
       "}\n",
       "</style>\n",
       "<small>shape: (1, 1)</small><table border=\"1\" class=\"dataframe\"><thead><tr><th>corr_instant_score</th></tr><tr><td>f64</td></tr></thead><tbody><tr><td>-0.10486</td></tr></tbody></table></div>"
      ],
      "text/plain": [
       "\n",
       "shape: \u001b[1m(\u001b[0m\u001b[1;36m1\u001b[0m, \u001b[1;36m1\u001b[0m\u001b[1m)\u001b[0m\n",
       "┌────────────────────┐\n",
       "│ corr_instant_score │\n",
       "│ ---                │\n",
       "│ f64                │\n",
       "╞════════════════════╡\n",
       "│ \u001b[1;36m-0.10486\u001b[0m           │\n",
       "└────────────────────┘"
      ]
     },
     "execution_count": 9,
     "metadata": {},
     "output_type": "execute_result"
    }
   ],
   "source": [
    "df.with_columns(\n",
    "    pl.col(\"instant_bookable\").cast(pl.Boolean).cast(pl.Int8)\n",
    ").select(\n",
    "    pl.corr(\"instant_bookable\", \"review_scores_rating\").alias(\"corr_instant_score\")\n",
    ")"
   ]
  },
  {
   "cell_type": "code",
   "execution_count": 10,
   "id": "f5b0e95a-4cfe-4d8c-bc58-7cdcc7544cc8",
   "metadata": {},
   "outputs": [
    {
     "data": {
      "text/html": [
       "<pre style=\"white-space:pre;overflow-x:auto;line-height:normal;font-family:Menlo,'DejaVu Sans Mono',consolas,'Courier New',monospace\"></pre>\n"
      ],
      "text/plain": []
     },
     "metadata": {},
     "output_type": "display_data"
    },
    {
     "data": {
      "text/html": [
       "<div><style>\n",
       ".dataframe > thead > tr,\n",
       ".dataframe > tbody > tr {\n",
       "  text-align: right;\n",
       "  white-space: pre-wrap;\n",
       "}\n",
       "</style>\n",
       "<small>shape: (1, 1)</small><table border=\"1\" class=\"dataframe\"><thead><tr><th>corr_num_score</th></tr><tr><td>f64</td></tr></thead><tbody><tr><td>0.078959</td></tr></tbody></table></div>"
      ],
      "text/plain": [
       "\n",
       "shape: \u001b[1m(\u001b[0m\u001b[1;36m1\u001b[0m, \u001b[1;36m1\u001b[0m\u001b[1m)\u001b[0m\n",
       "┌────────────────┐\n",
       "│ corr_num_score │\n",
       "│ ---            │\n",
       "│ f64            │\n",
       "╞════════════════╡\n",
       "│ \u001b[1;36m0.078959\u001b[0m       │\n",
       "└────────────────┘"
      ]
     },
     "execution_count": 10,
     "metadata": {},
     "output_type": "execute_result"
    }
   ],
   "source": [
    "df.select(\n",
    "    pl.corr(\"number_of_reviews\", \"review_scores_rating\").alias(\"corr_num_score\")\n",
    ")"
   ]
  }
 ],
 "metadata": {
  "kernelspec": {
   "display_name": "Python 3 (ipykernel)",
   "language": "python",
   "name": "python3"
  },
  "language_info": {
   "codemirror_mode": {
    "name": "ipython",
    "version": 3
   },
   "file_extension": ".py",
   "mimetype": "text/x-python",
   "name": "python",
   "nbconvert_exporter": "python",
   "pygments_lexer": "ipython3",
   "version": "3.12.3"
  }
 },
 "nbformat": 4,
 "nbformat_minor": 5
}
